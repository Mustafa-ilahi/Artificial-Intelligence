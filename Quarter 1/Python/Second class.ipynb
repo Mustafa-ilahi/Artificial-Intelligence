{
 "cells": [
  {
   "cell_type": "code",
   "execution_count": 8,
   "metadata": {},
   "outputs": [
    {
     "name": "stdout",
     "output_type": "stream",
     "text": [
      "Do you have nic ?no\n",
      "You are not allowed\n"
     ]
    }
   ],
   "source": [
    "nic = input(\"Do you have nic ?\")\n",
    "if nic=='yes':\n",
    "    print(\"You are allowed to give the vote\")\n",
    "    name = input(\"Enter your name \")\n",
    "    if name == 'Mustafa':\n",
    "        print(\"Your name is in voter list\")\n",
    "    else : \n",
    "        print(\"Your name is not found\")\n",
    "    \n",
    "else:\n",
    "    print(\"You are not allowed\")"
   ]
  },
  {
   "cell_type": "code",
   "execution_count": 12,
   "metadata": {},
   "outputs": [
    {
     "name": "stdout",
     "output_type": "stream",
     "text": [
      "Enter age: 20\n",
      "Enter ticket status: yes\n",
      "You are allowed\n"
     ]
    }
   ],
   "source": [
    "age = int(input(\"Enter age: \"))\n",
    "ticket = input(\"Enter ticket status: \").lower()\n",
    "if age>=18 and ticket == 'yes':\n",
    "    print('You are allowed')\n",
    "else:\n",
    "    print('You are not allowed')"
   ]
  },
  {
   "cell_type": "code",
   "execution_count": 22,
   "metadata": {},
   "outputs": [
    {
     "name": "stdout",
     "output_type": "stream",
     "text": [
      "Enter first number: 12121\n",
      "Enter second number: 2\n",
      "12121 is greater than 2\n"
     ]
    }
   ],
   "source": [
    "a = int(input('Enter first number: '))\n",
    "b = int(input('Enter second number: '))\n",
    "\n",
    "if a==b:\n",
    "       print(f'{a} is equal to {b}')\n",
    "elif a>b:\n",
    "       print(f'{a} is greater than {b}')\n",
    "elif a<b:\n",
    "    print(f'{a} is less than {b}')\n",
    "else:\n",
    "    print('Try again')"
   ]
  },
  {
   "cell_type": "code",
   "execution_count": 23,
   "metadata": {},
   "outputs": [
    {
     "name": "stdout",
     "output_type": "stream",
     "text": [
      "Enter first number: 2\n",
      "Enter second number: 3\n",
      "Try again\n"
     ]
    }
   ],
   "source": [
    "a = int(input('Enter first number: '))\n",
    "b = int(input('Enter second number: '))\n",
    "\n",
    "if a==b or a>b:\n",
    "    print('All is well')\n",
    "else:\n",
    "    print('Try again')"
   ]
  },
  {
   "cell_type": "code",
   "execution_count": 26,
   "metadata": {},
   "outputs": [
    {
     "name": "stdout",
     "output_type": "stream",
     "text": [
      "Do you have paper? yes\n",
      "Do you have money ?no\n",
      "You can go\n"
     ]
    }
   ],
   "source": [
    "documents = input(\"Do you have paper? \")\n",
    "money = input(\"Do you have money ?\")\n",
    "if documents == 'yes' or money == 'yes':\n",
    "    print('You can go')\n",
    "else:\n",
    "    print('Get in the car')    "
   ]
  },
  {
   "cell_type": "code",
   "execution_count": 35,
   "metadata": {},
   "outputs": [
    {
     "name": "stdout",
     "output_type": "stream",
     "text": [
      "Do you have paper? No\n",
      "Do you have money ?Yes\n",
      "You can go\n"
     ]
    }
   ],
   "source": [
    "documents = input(\"Do you have paper? \").lower()\n",
    "money = input(\"Do you have money ?\").lower()\n",
    "if documents == 'yes':\n",
    "    print('You can go')\n",
    "elif money == 'yes':\n",
    "    print('You can go')\n",
    "else:\n",
    "    print('You are not allowed to go')"
   ]
  },
  {
   "cell_type": "code",
   "execution_count": 36,
   "metadata": {},
   "outputs": [],
   "source": [
    "# For single line comment \"#\"\n",
    "\n",
    "# For multiple line \" ''' \""
   ]
  },
  {
   "cell_type": "code",
   "execution_count": 1,
   "metadata": {},
   "outputs": [],
   "source": [
    "#class task"
   ]
  }
 ],
 "metadata": {
  "kernelspec": {
   "display_name": "Python 3",
   "language": "python",
   "name": "python3"
  },
  "language_info": {
   "codemirror_mode": {
    "name": "ipython",
    "version": 3
   },
   "file_extension": ".py",
   "mimetype": "text/x-python",
   "name": "python",
   "nbconvert_exporter": "python",
   "pygments_lexer": "ipython3",
   "version": "3.7.3"
  }
 },
 "nbformat": 4,
 "nbformat_minor": 2
}
