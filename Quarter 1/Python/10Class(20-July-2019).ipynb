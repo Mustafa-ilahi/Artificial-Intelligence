{
 "cells": [
  {
   "cell_type": "markdown",
   "metadata": {},
   "source": [
    "# CSV File"
   ]
  },
  {
   "cell_type": "code",
   "execution_count": 12,
   "metadata": {},
   "outputs": [],
   "source": [
    "import csv"
   ]
  },
  {
   "cell_type": "code",
   "execution_count": 13,
   "metadata": {},
   "outputs": [
    {
     "name": "stdout",
     "output_type": "stream",
     "text": [
      "<_csv.reader object at 0x000002659AD293F0>\n"
     ]
    }
   ],
   "source": [
    "with open('abc.csv') as f:\n",
    "    x = csv.reader(f)\n",
    "    print(x)"
   ]
  },
  {
   "cell_type": "code",
   "execution_count": 14,
   "metadata": {},
   "outputs": [
    {
     "name": "stdout",
     "output_type": "stream",
     "text": [
      "[['Year,Event,Winner'], ['1995,Best-Kept Lawn,None'], ['1999,Gobstones,Welch National'], ['2006,World Cup,Burkina Faso']]\n"
     ]
    }
   ],
   "source": [
    "with open('abc.csv') as f:\n",
    "    x = csv.reader(f)\n",
    "    y = []\n",
    "    for i in x:\n",
    "        y.append(i)\n",
    "print(y)        "
   ]
  },
  {
   "cell_type": "code",
   "execution_count": 24,
   "metadata": {},
   "outputs": [],
   "source": [
    "with open(\"whatever.csv\" , \"w\") as f:\n",
    "    data_handler = csv.writer(f, delimiter = \",\")\n",
    "    data_handler.writerow([\"Year\", \"Event\",\"Winner\"])\n",
    "    data_handler.writerow([\"1995\", \"Best-Kept Lawn\",\"None\"])\n",
    "    data_handler.writerow([\"1999\", \"Gobstones\",\"Welch National\"])"
   ]
  },
  {
   "cell_type": "code",
   "execution_count": 25,
   "metadata": {},
   "outputs": [
    {
     "name": "stdout",
     "output_type": "stream",
     "text": [
      "[['Year', 'Event', 'Winner'], [], ['1995', 'Best-Kept Lawn', 'None'], [], ['1999', 'Gobstones', 'Welch National'], []]\n"
     ]
    }
   ],
   "source": [
    "with open('whatever.csv') as f:\n",
    "    x = csv.reader(f)\n",
    "    y = []\n",
    "    for i in x:\n",
    "        y.append(i)\n",
    "print(y)        "
   ]
  },
  {
   "cell_type": "code",
   "execution_count": 43,
   "metadata": {},
   "outputs": [],
   "source": [
    "with open(\"whatever.csv\" , \"a\", newline = \"\") as f:\n",
    "    data_handler = csv.writer(f, delimiter = \",\")\n",
    "    data_handler.writerow([\"Year\", \"Event\",\"Winner\"])\n",
    "    data_handler.writerow([\"1995\", \"Best-Kept Lawn\",\"None\"])\n",
    "    data_handler.writerow([\"1999\", \"Gobstones\",\"Welch National\"])"
   ]
  },
  {
   "cell_type": "markdown",
   "metadata": {},
   "source": [
    "# JSON File {Javascript Object Notation}"
   ]
  },
  {
   "cell_type": "code",
   "execution_count": 44,
   "metadata": {},
   "outputs": [],
   "source": [
    "import json"
   ]
  },
  {
   "cell_type": "code",
   "execution_count": 46,
   "metadata": {},
   "outputs": [],
   "source": [
    "alphabet_letters = [\"a\",\"b\",\"c\"]\n",
    "\n",
    "with open(\"alphabet_list.json\", \"w\") as f:\n",
    "    json.dump(alphabet_letters,f)\n"
   ]
  },
  {
   "cell_type": "code",
   "execution_count": 47,
   "metadata": {},
   "outputs": [
    {
     "name": "stdout",
     "output_type": "stream",
     "text": [
      "['a', 'b', 'c']\n",
      "a\n",
      "b\n",
      "c\n"
     ]
    }
   ],
   "source": [
    "with open(\"alphabet_list.json\",) as f:\n",
    "    x = json.load(f)\n",
    "    print(x)\n",
    "    for i in x:\n",
    "        print(i)"
   ]
  },
  {
   "cell_type": "code",
   "execution_count": 50,
   "metadata": {},
   "outputs": [],
   "source": [
    " customer_29876 = { \n",
    " \"first name\": \"David\",\n",
    " \"last name\": \"Elliott\",\n",
    " \"address\": \"4803 Wellesley St.\",\n",
    " }\n"
   ]
  },
  {
   "cell_type": "code",
   "execution_count": 51,
   "metadata": {},
   "outputs": [],
   "source": [
    "with open(\"abc.json\",\"w\") as f:\n",
    "    json.dump(customer_29876, f)"
   ]
  },
  {
   "cell_type": "code",
   "execution_count": 1,
   "metadata": {},
   "outputs": [
    {
     "name": "stdout",
     "output_type": "stream",
     "text": [
      "Enter no to quity\n",
      "Enter name: nasir\n",
      "Enter age:45\n",
      "Enter address:sdsds\n",
      "Data posted\n",
      "Enter no to quity\n",
      "Enter name: qwe\n",
      "Enter age:56\n",
      "Enter address:sfdgh\n",
      "Data posted\n",
      "Enter no to quity\n",
      "Enter name: qaswed\n",
      "Enter age:3456\n",
      "Enter address:dfgghjh67\n",
      "Data posted\n",
      "Enter no to quitno\n",
      "Data posted\n"
     ]
    }
   ],
   "source": [
    "import json\n",
    "flag =True\n",
    "while flag:\n",
    "    user  =input(\"Enter no to quit\")\n",
    "    if user !=\"no\":\n",
    "        data = {\"firstname\" : input(\"Enter name: \"), \"age\" : int(input(\"Enter age:\")), \"Address\": input(\"Enter address:\")}\n",
    "    else: \n",
    "        flag =False\n",
    "    with open(\"data.json\",\"a\") as f:\n",
    "        json.dump(data, f)\n",
    "    print(\"Data posted\")"
   ]
  },
  {
   "cell_type": "code",
   "execution_count": 6,
   "metadata": {},
   "outputs": [],
   "source": [
    "import math"
   ]
  },
  {
   "cell_type": "code",
   "execution_count": 7,
   "metadata": {},
   "outputs": [],
   "source": [
    "import myMath"
   ]
  },
  {
   "cell_type": "code",
   "execution_count": 8,
   "metadata": {},
   "outputs": [
    {
     "name": "stdout",
     "output_type": "stream",
     "text": [
      "14\n"
     ]
    }
   ],
   "source": [
    "print(myMath.add(2,5))"
   ]
  },
  {
   "cell_type": "code",
   "execution_count": 9,
   "metadata": {},
   "outputs": [
    {
     "name": "stdout",
     "output_type": "stream",
     "text": [
      "0.8333333333333334\n"
     ]
    }
   ],
   "source": [
    "print(myMath.sub(5,6))"
   ]
  },
  {
   "cell_type": "code",
   "execution_count": null,
   "metadata": {},
   "outputs": [],
   "source": []
  }
 ],
 "metadata": {
  "kernelspec": {
   "display_name": "Python 3",
   "language": "python",
   "name": "python3"
  },
  "language_info": {
   "codemirror_mode": {
    "name": "ipython",
    "version": 3
   },
   "file_extension": ".py",
   "mimetype": "text/x-python",
   "name": "python",
   "nbconvert_exporter": "python",
   "pygments_lexer": "ipython3",
   "version": "3.7.3"
  }
 },
 "nbformat": 4,
 "nbformat_minor": 2
}
