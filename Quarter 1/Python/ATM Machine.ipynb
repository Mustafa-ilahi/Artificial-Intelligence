{
 "cells": [
  {
   "cell_type": "code",
   "execution_count": null,
   "metadata": {},
   "outputs": [],
   "source": [
    "print('\\t\\t Welcome to ATM Machine')\n",
    "password = int(input('Enter Password to get access: '))\n",
    "if password ==12345 :\n",
    "    print('Correct Password...!')\n",
    "    print('Press 1 for Check Balance')\n",
    "    print('Press 2 for Deposit Amount')\n",
    "    print('Press 3 for Withdrawal Amount')\n",
    "    option = int(input('What would you like to choose? '))\n",
    "    if option ==1 :\n",
    "        balance = amount\n",
    "        print('Your balance is ',amount)\n",
    "    else:\n",
    "        print('Thankyou')\n",
    "    if option==2 :\n",
    "        print('Deposit amount')\n",
    "        deposit = input('Do you wanna deposit amount? ').lower()\n",
    "        if deposit =='yes':\n",
    "            amount = input('Enter amount : ')\n",
    "            print('Your new account balance is',amount)\n",
    "    else:  \n",
    "        print('Thankyou')\n",
    "    if option==3 :\n",
    "        withdraw = int(input('Enter amount to withdrawal: '))\n",
    "        if withdraw  :\n",
    "            print('Your have successfully withdraw ',withdraw)\n",
    "\n",
    "else :\n",
    "    print('Wrong Password...!')"
   ]
  },
  {
   "cell_type": "code",
   "execution_count": null,
   "metadata": {},
   "outputs": [],
   "source": []
  },
  {
   "cell_type": "code",
   "execution_count": null,
   "metadata": {},
   "outputs": [],
   "source": []
  }
 ],
 "metadata": {
  "kernelspec": {
   "display_name": "Python 3",
   "language": "python",
   "name": "python3"
  },
  "language_info": {
   "codemirror_mode": {
    "name": "ipython",
    "version": 3
   },
   "file_extension": ".py",
   "mimetype": "text/x-python",
   "name": "python",
   "nbconvert_exporter": "python",
   "pygments_lexer": "ipython3",
   "version": "3.7.3"
  }
 },
 "nbformat": 4,
 "nbformat_minor": 2
}
