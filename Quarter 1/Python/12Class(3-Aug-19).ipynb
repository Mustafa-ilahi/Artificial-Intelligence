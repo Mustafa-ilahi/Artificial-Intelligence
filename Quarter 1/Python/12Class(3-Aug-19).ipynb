{
 "cells": [
  {
   "cell_type": "code",
   "execution_count": 29,
   "metadata": {},
   "outputs": [
    {
     "name": "stdout",
     "output_type": "stream",
     "text": [
      "Enter first no: 99\n",
      "Enter second no: 55\n",
      "Select operator like +,-,*,/: *\n",
      "***Multiply***\n",
      "5445\n"
     ]
    }
   ],
   "source": [
    "try:\n",
    "    firstNo = int(input(\"Enter first no: \"))\n",
    "    secondNo = int(input(\"Enter second no: \"))\n",
    "    select = input(\"Select operator like +,-,*,/: \")\n",
    "    if select == \"+\":\n",
    "        add = firstNo + secondNo \n",
    "        print(\"***Sum***\")\n",
    "        print(add)\n",
    "    elif select == \"-\":\n",
    "        subtract = firstNo - secondNo\n",
    "        print(\"***Subtract***\")\n",
    "        print(subtract)\n",
    "    elif select == \"*\":\n",
    "        multiply = firstNo * secondNo\n",
    "        print(\"***Multiply***\")\n",
    "        print(multiply)\n",
    "    elif select == \"/\":\n",
    "        divide = firstNo / secondNo\n",
    "        print(\"***Division***\")\n",
    "        print(divide)\n",
    "    else:\n",
    "        print(\"Operator not defined\")\n",
    "except ValueError:\n",
    "    print(\"Invalid Syntax\")\n",
    "    "
   ]
  },
  {
   "cell_type": "code",
   "execution_count": null,
   "metadata": {},
   "outputs": [],
   "source": []
  }
 ],
 "metadata": {
  "kernelspec": {
   "display_name": "Python 3",
   "language": "python",
   "name": "python3"
  },
  "language_info": {
   "codemirror_mode": {
    "name": "ipython",
    "version": 3
   },
   "file_extension": ".py",
   "mimetype": "text/x-python",
   "name": "python",
   "nbconvert_exporter": "python",
   "pygments_lexer": "ipython3",
   "version": "3.7.3"
  }
 },
 "nbformat": 4,
 "nbformat_minor": 2
}
