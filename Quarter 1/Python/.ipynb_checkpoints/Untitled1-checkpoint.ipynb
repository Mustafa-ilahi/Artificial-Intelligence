{
 "cells": [
  {
   "cell_type": "markdown",
   "metadata": {},
   "source": [
    "# Ex 2-1 "
   ]
  },
  {
   "cell_type": "code",
   "execution_count": 6,
   "metadata": {},
   "outputs": [],
   "source": [
    "newMessage = \"Hello Everyone! Welcome to the world of programming\""
   ]
  },
  {
   "cell_type": "code",
   "execution_count": 7,
   "metadata": {},
   "outputs": [
    {
     "name": "stdout",
     "output_type": "stream",
     "text": [
      "Hello Everyone! Welcome to the world of programming\n"
     ]
    }
   ],
   "source": [
    "print(newMessage);"
   ]
  },
  {
   "cell_type": "markdown",
   "metadata": {},
   "source": [
    "# Ex 2-2"
   ]
  },
  {
   "cell_type": "code",
   "execution_count": 8,
   "metadata": {},
   "outputs": [
    {
     "name": "stdout",
     "output_type": "stream",
     "text": [
      "New message\n"
     ]
    }
   ],
   "source": [
    "newMessage = \"New message\";\n",
    "print(newMessage);"
   ]
  },
  {
   "cell_type": "markdown",
   "metadata": {},
   "source": [
    "# Ex 3-1"
   ]
  },
  {
   "cell_type": "code",
   "execution_count": 17,
   "metadata": {},
   "outputs": [
    {
     "name": "stdout",
     "output_type": "stream",
     "text": [
      "Mustafa Rafay Aleem Haziq\n"
     ]
    }
   ],
   "source": [
    "names = [\"Mustafa\" , \"Rafay\" , \"Aleem\", \"Haziq\"]\n",
    "print(names[0] , names[1],names[2],names[3])"
   ]
  },
  {
   "cell_type": "code",
   "execution_count": 18,
   "metadata": {},
   "outputs": [
    {
     "name": "stdout",
     "output_type": "stream",
     "text": [
      "Haziq\n"
     ]
    }
   ],
   "source": [
    "popped_names = names.pop()\n",
    "print(popped_names)"
   ]
  },
  {
   "cell_type": "code",
   "execution_count": 2,
   "metadata": {},
   "outputs": [
    {
     "name": "stdout",
     "output_type": "stream",
     "text": [
      "Enter your firstname: Mustafa\n",
      "Enter your lastname: ilahi\n",
      "Enter your age: 19\n",
      "Enter your city: karachi\n"
     ]
    }
   ],
   "source": [
    "user_Info = {\n",
    "    \"firstname\" : input(\"Enter your firstname: \"),\n",
    "    \"lastname\" : input(\"Enter your lastname: \"),\n",
    "    \"age\" : int(input(\"Enter your age: \")),\n",
    "    \"city\" : input(\"Enter your city: \"),\n",
    "}"
   ]
  },
  {
   "cell_type": "code",
   "execution_count": null,
   "metadata": {},
   "outputs": [],
   "source": []
  }
 ],
 "metadata": {
  "kernelspec": {
   "display_name": "Python 3",
   "language": "python",
   "name": "python3"
  },
  "language_info": {
   "codemirror_mode": {
    "name": "ipython",
    "version": 3
   },
   "file_extension": ".py",
   "mimetype": "text/x-python",
   "name": "python",
   "nbconvert_exporter": "python",
   "pygments_lexer": "ipython3",
   "version": "3.7.3"
  }
 },
 "nbformat": 4,
 "nbformat_minor": 2
}
