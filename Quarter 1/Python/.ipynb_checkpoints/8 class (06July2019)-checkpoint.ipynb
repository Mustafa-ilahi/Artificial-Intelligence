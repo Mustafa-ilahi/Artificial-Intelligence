{
 "cells": [
  {
   "cell_type": "markdown",
   "metadata": {},
   "source": [
    "# Inheritance"
   ]
  },
  {
   "cell_type": "code",
   "execution_count": 36,
   "metadata": {},
   "outputs": [],
   "source": [
    "class Car():\n",
    "    def __init__(self, make, model, year):\n",
    "        self.make = make\n",
    "        self.model = model\n",
    "        self.year = year\n",
    "        self.odometer_reading = 0\n",
    "        \n",
    "    def get_descriptive_name(self):\n",
    "        \n",
    "        long_name = str(self.year) + ' ' + self.make + ' '+ self.model\n",
    "        return long_name.title()\n",
    "    \n",
    "    def read_odometer(self):\n",
    "        print(f\"the car has travelled {self.odometer_reading} miles\")\n",
    "    \n",
    "    def update_odometer(self, mileage):\n",
    "        self.odometer_reading = mileage\n",
    "        \n",
    "    def increase_odometer(self, mileage):\n",
    "        if mileage >0:\n",
    "            self.odometer_reading +=mileage\n",
    "        else:\n",
    "            print(\"you can not rol back odometer\")\n",
    "    def getFuelTankSize(self):\n",
    "        print(\"100 Liters\")"
   ]
  },
  {
   "cell_type": "code",
   "execution_count": 37,
   "metadata": {},
   "outputs": [],
   "source": [
    "class ElectricCar(Car):\n",
    "    def __init__(self, make, model, year):\n",
    "        super().__init__(make, model, year)"
   ]
  },
  {
   "cell_type": "code",
   "execution_count": 38,
   "metadata": {},
   "outputs": [],
   "source": [
    "eCar = ElectricCar('toyota', 'corolla',1990)"
   ]
  },
  {
   "cell_type": "code",
   "execution_count": 39,
   "metadata": {},
   "outputs": [
    {
     "name": "stdout",
     "output_type": "stream",
     "text": [
      "the car has travelled 0 miles\n"
     ]
    }
   ],
   "source": [
    "eCar.read_odometer()"
   ]
  },
  {
   "cell_type": "code",
   "execution_count": 40,
   "metadata": {},
   "outputs": [],
   "source": [
    "eCar.increase_odometer(15)"
   ]
  },
  {
   "cell_type": "code",
   "execution_count": 41,
   "metadata": {},
   "outputs": [
    {
     "name": "stdout",
     "output_type": "stream",
     "text": [
      "the car has travelled 15 miles\n"
     ]
    }
   ],
   "source": [
    "eCar.read_odometer()"
   ]
  },
  {
   "cell_type": "code",
   "execution_count": 42,
   "metadata": {},
   "outputs": [
    {
     "data": {
      "text/plain": [
       "'toyota'"
      ]
     },
     "execution_count": 42,
     "metadata": {},
     "output_type": "execute_result"
    }
   ],
   "source": [
    "eCar.make"
   ]
  },
  {
   "cell_type": "code",
   "execution_count": 48,
   "metadata": {},
   "outputs": [],
   "source": [
    "class ElectricCar(Car):\n",
    "    def __init__(self, make, model, year):\n",
    "        super().__init__(make, model, year)\n",
    "        self.batterySize = 70\n",
    "        \n",
    "    def getBatterySize(self):\n",
    "        print(f\"The battery size of the eCar is {self.batterySize}\")\n",
    "    def setBatterySize(self,battery):\n",
    "        self.batterySize = battery\n",
    "    def getFuelTankSize(self):\n",
    "        print(\"Electric car doesnot gave fuel tank\")"
   ]
  },
  {
   "cell_type": "code",
   "execution_count": 49,
   "metadata": {},
   "outputs": [],
   "source": [
    "elecCar = ElectricCar(\"ABC ElectricCar\",\"NewCar\",2019)"
   ]
  },
  {
   "cell_type": "code",
   "execution_count": 50,
   "metadata": {},
   "outputs": [],
   "source": [
    "elecCar.setBatterySize(200)"
   ]
  },
  {
   "cell_type": "code",
   "execution_count": 53,
   "metadata": {},
   "outputs": [
    {
     "name": "stdout",
     "output_type": "stream",
     "text": [
      "The battery size of the eCar is 200\n"
     ]
    }
   ],
   "source": [
    "elecCar.getBatterySize()"
   ]
  },
  {
   "cell_type": "code",
   "execution_count": 54,
   "metadata": {},
   "outputs": [
    {
     "name": "stdout",
     "output_type": "stream",
     "text": [
      "Electric car doesnot gave fuel tank\n"
     ]
    }
   ],
   "source": [
    "elecCar.getFuelTankSize()"
   ]
  },
  {
   "cell_type": "markdown",
   "metadata": {},
   "source": [
    "# Instance as Attribute"
   ]
  },
  {
   "cell_type": "code",
   "execution_count": 58,
   "metadata": {},
   "outputs": [],
   "source": [
    "class Battery():\n",
    "    def __init__(self, manufacturer, volt, date):\n",
    "        self.manufacturer = manufacturer\n",
    "        self.volt = volt\n",
    "        self.date = date\n",
    "                \n",
    "    def getBatterySize(self):\n",
    "        print(f\"The battery size of the eCar is {self.batterySize}\")\n",
    "    def setBatterySize(self,battery):\n",
    "        self.batterySize = battery\n",
    "   "
   ]
  },
  {
   "cell_type": "code",
   "execution_count": 65,
   "metadata": {},
   "outputs": [],
   "source": [
    "class ElectricCar(Car):\n",
    "    def __init__(self, make, model, year):\n",
    "        super().__init__(make, model, year)\n",
    "        self.battery = Battery(\"Osaka\", 200, 2019)\n",
    "    def getFuelTankSize(self):\n",
    "        print(\"Electric car doesnot gave fuel tank\")   \n"
   ]
  },
  {
   "cell_type": "code",
   "execution_count": 66,
   "metadata": {},
   "outputs": [],
   "source": [
    "eCar = ElectricCar(\"abc\",\"xyz\",2019)"
   ]
  },
  {
   "cell_type": "code",
   "execution_count": 69,
   "metadata": {},
   "outputs": [
    {
     "data": {
      "text/plain": [
       "'Osaka'"
      ]
     },
     "execution_count": 69,
     "metadata": {},
     "output_type": "execute_result"
    }
   ],
   "source": [
    "eCar.battery.manufacturer"
   ]
  },
  {
   "cell_type": "markdown",
   "metadata": {},
   "source": [
    "# Example Resturant (9-1)"
   ]
  },
  {
   "cell_type": "code",
   "execution_count": 71,
   "metadata": {},
   "outputs": [],
   "source": [
    "class Resturant():\n",
    "    def __init__(self,resturantName,cuisineType):\n",
    "        self.resturantName = resturantName\n",
    "        self.cuisineType = cuisineType\n",
    "    def describeResturant(self):\n",
    "        print(f\"The name of Resturant is {self.resturantName}\")\n",
    "        print(f\"The cuisine type is {self.cuisineType}\")\n",
    "    def openResturant(self):\n",
    "        print(f\"{self.resturantName} is open today\")"
   ]
  },
  {
   "cell_type": "code",
   "execution_count": 72,
   "metadata": {},
   "outputs": [],
   "source": [
    "r1 = Resturant(\"ChinaTown\", \"Chinese\")"
   ]
  },
  {
   "cell_type": "code",
   "execution_count": 73,
   "metadata": {},
   "outputs": [
    {
     "name": "stdout",
     "output_type": "stream",
     "text": [
      "ChinaTown\n",
      "Chinese\n"
     ]
    }
   ],
   "source": [
    "print(r1.resturantName)\n",
    "print(r1.cuisineType)"
   ]
  },
  {
   "cell_type": "code",
   "execution_count": 79,
   "metadata": {},
   "outputs": [
    {
     "name": "stdout",
     "output_type": "stream",
     "text": [
      "The name of Resturant is ChinaTown\n",
      "The cuisine type is Chinese\n",
      "ChinaTown is open today\n"
     ]
    }
   ],
   "source": [
    "r1.describeResturant()\n",
    "r1.openResturant()"
   ]
  },
  {
   "cell_type": "markdown",
   "metadata": {},
   "source": []
  },
  {
   "cell_type": "code",
   "execution_count": 75,
   "metadata": {},
   "outputs": [],
   "source": [
    "r2 = Resturant(\"KFC\", \"Fast Food\")\n",
    "r3 = Resturant(\"Dhabba\", \"Tea\")\n",
    "r4 = Resturant(\"TeaPoint\", \"Caffene\")"
   ]
  },
  {
   "cell_type": "code",
   "execution_count": 76,
   "metadata": {},
   "outputs": [
    {
     "name": "stdout",
     "output_type": "stream",
     "text": [
      "The name of Resturant is KFC\n",
      "The cuisine type is Fast Food\n"
     ]
    }
   ],
   "source": [
    "r2.describeResturant()"
   ]
  },
  {
   "cell_type": "code",
   "execution_count": 77,
   "metadata": {},
   "outputs": [
    {
     "name": "stdout",
     "output_type": "stream",
     "text": [
      "The name of Resturant is Dhabba\n",
      "The cuisine type is Tea\n"
     ]
    }
   ],
   "source": [
    "r3.describeResturant()"
   ]
  },
  {
   "cell_type": "code",
   "execution_count": 78,
   "metadata": {},
   "outputs": [
    {
     "name": "stdout",
     "output_type": "stream",
     "text": [
      "The name of Resturant is TeaPoint\n",
      "The cuisine type is Caffene\n"
     ]
    }
   ],
   "source": [
    "r4.describeResturant()"
   ]
  },
  {
   "cell_type": "markdown",
   "metadata": {},
   "source": [
    "# Example Resturant (9-4)"
   ]
  },
  {
   "cell_type": "code",
   "execution_count": 94,
   "metadata": {},
   "outputs": [],
   "source": [
    "class Resturant():\n",
    "    def __init__(self,resturantName,cuisineType):\n",
    "        self.resturantName = resturantName\n",
    "        self.cuisineType = cuisineType\n",
    "        self.numbersServed = 0\n",
    "    def describeResturant(self):\n",
    "        print(f\"The name of Resturant is {self.resturantName}\")\n",
    "        print(f\"The cuisine type is {self.cuisineType}\")\n",
    "    def openResturant(self):\n",
    "        print(f\"{self.resturantName} is open today\")\n",
    "    def setNumberServed(self, number):\n",
    "        self.numbersServed = number\n",
    "    def getNumberServed(self):\n",
    "        print(f\"{self.numbersServed} customers are served\")\n",
    "    def increment_number_served(self,number):\n",
    "        self.numbersServed += number"
   ]
  },
  {
   "cell_type": "code",
   "execution_count": 95,
   "metadata": {},
   "outputs": [],
   "source": [
    "resturant = Resturant(\"PizzaPlus\",\"Pizza\")"
   ]
  },
  {
   "cell_type": "code",
   "execution_count": 96,
   "metadata": {},
   "outputs": [
    {
     "data": {
      "text/plain": [
       "0"
      ]
     },
     "execution_count": 96,
     "metadata": {},
     "output_type": "execute_result"
    }
   ],
   "source": [
    "resturant.numbersServed"
   ]
  },
  {
   "cell_type": "code",
   "execution_count": 97,
   "metadata": {},
   "outputs": [],
   "source": [
    "resturant.numbersServed = 10"
   ]
  },
  {
   "cell_type": "code",
   "execution_count": 98,
   "metadata": {},
   "outputs": [
    {
     "name": "stdout",
     "output_type": "stream",
     "text": [
      "10\n"
     ]
    }
   ],
   "source": [
    "print(resturant.numbersServed)"
   ]
  },
  {
   "cell_type": "code",
   "execution_count": 99,
   "metadata": {},
   "outputs": [
    {
     "data": {
      "text/plain": [
       "15"
      ]
     },
     "execution_count": 99,
     "metadata": {},
     "output_type": "execute_result"
    }
   ],
   "source": [
    "resturant.setNumberServed(15)\n",
    "resturant.numbersServed"
   ]
  },
  {
   "cell_type": "code",
   "execution_count": null,
   "metadata": {},
   "outputs": [],
   "source": []
  }
 ],
 "metadata": {
  "kernelspec": {
   "display_name": "Python 3",
   "language": "python",
   "name": "python3"
  },
  "language_info": {
   "codemirror_mode": {
    "name": "ipython",
    "version": 3
   },
   "file_extension": ".py",
   "mimetype": "text/x-python",
   "name": "python",
   "nbconvert_exporter": "python",
   "pygments_lexer": "ipython3",
   "version": "3.7.3"
  }
 },
 "nbformat": 4,
 "nbformat_minor": 2
}
