{
 "cells": [
  {
   "cell_type": "markdown",
   "metadata": {},
   "source": [
    "# For Loop"
   ]
  },
  {
   "cell_type": "code",
   "execution_count": 1,
   "metadata": {},
   "outputs": [],
   "source": [
    "students = ['Mustafa' , 'Mehmood' , 'Hammad' , 'Haziq']"
   ]
  },
  {
   "cell_type": "code",
   "execution_count": 3,
   "metadata": {},
   "outputs": [
    {
     "name": "stdout",
     "output_type": "stream",
     "text": [
      "['Mustafa', 'Mehmood', 'Hammad', 'Haziq']\n"
     ]
    }
   ],
   "source": [
    "print(students)"
   ]
  },
  {
   "cell_type": "code",
   "execution_count": 4,
   "metadata": {},
   "outputs": [
    {
     "name": "stdout",
     "output_type": "stream",
     "text": [
      "Mustafa\n",
      "Mehmood\n",
      "Hammad\n",
      "Haziq\n"
     ]
    }
   ],
   "source": [
    "for student in students:\n",
    "    print(student)"
   ]
  },
  {
   "cell_type": "code",
   "execution_count": 5,
   "metadata": {},
   "outputs": [
    {
     "name": "stdout",
     "output_type": "stream",
     "text": [
      "Mustafa Get out from class\n",
      "Mehmood Get in the class\n",
      "Hammad Get in the class\n",
      "Haziq Get in the class\n"
     ]
    }
   ],
   "source": [
    "for student in students:\n",
    "    if student == 'Mustafa':\n",
    "        print(f'{student} Get out from class')\n",
    "    else:\n",
    "        print(f'{student} Get in the class')"
   ]
  },
  {
   "cell_type": "code",
   "execution_count": 7,
   "metadata": {},
   "outputs": [
    {
     "name": "stdout",
     "output_type": "stream",
     "text": [
      "P a k i s t a n "
     ]
    }
   ],
   "source": [
    "for a in 'Pakistan':\n",
    "    print(a , end = ' ')"
   ]
  },
  {
   "cell_type": "code",
   "execution_count": 8,
   "metadata": {},
   "outputs": [
    {
     "name": "stdout",
     "output_type": "stream",
     "text": [
      "0 1 2 3 4 5 6 7 8 9 "
     ]
    }
   ],
   "source": [
    "for num in range(10):\n",
    "    print(num , end = ' ')"
   ]
  },
  {
   "cell_type": "code",
   "execution_count": 9,
   "metadata": {},
   "outputs": [
    {
     "name": "stdout",
     "output_type": "stream",
     "text": [
      "1 2 3 4 5 6 7 8 9 "
     ]
    }
   ],
   "source": [
    "for num in range(1,10):\n",
    "    print(num , end = ' ')"
   ]
  },
  {
   "cell_type": "code",
   "execution_count": 31,
   "metadata": {},
   "outputs": [
    {
     "name": "stdout",
     "output_type": "stream",
     "text": [
      "Enter Table No : 5\n",
      "5 * 1 = 5\n",
      "5 * 2 = 10\n",
      "5 * 3 = 15\n",
      "5 * 4 = 20\n",
      "5 * 5 = 25\n",
      "5 * 6 = 30\n",
      "5 * 7 = 35\n",
      "5 * 8 = 40\n",
      "5 * 9 = 45\n",
      "5 * 10 = 50\n"
     ]
    }
   ],
   "source": [
    "tableNum = int(input(\"Enter Table No : \"))\n",
    "for table in range(1,11):\n",
    "    print(f'{tableNum} * {table} = {tableNum * table}' )"
   ]
  },
  {
   "cell_type": "code",
   "execution_count": 32,
   "metadata": {},
   "outputs": [
    {
     "name": "stdout",
     "output_type": "stream",
     "text": [
      "0 2 4 6 8 10 12 14 16 18 20 22 24 "
     ]
    }
   ],
   "source": [
    "for num in range(0,25,2): #3rd value is for steps\n",
    "    print(num, end = ' ')\n",
    "    #for generate even no's"
   ]
  },
  {
   "cell_type": "code",
   "execution_count": 33,
   "metadata": {},
   "outputs": [
    {
     "name": "stdout",
     "output_type": "stream",
     "text": [
      "1 3 5 7 9 11 13 15 17 19 21 23 "
     ]
    }
   ],
   "source": [
    "for num in range(1,25,2):\n",
    "    print(num , end = ' ')\n",
    "    #for generate odd no's"
   ]
  },
  {
   "cell_type": "code",
   "execution_count": 35,
   "metadata": {},
   "outputs": [
    {
     "name": "stdout",
     "output_type": "stream",
     "text": [
      "25 24 23 22 21 20 19 18 17 16 15 14 13 12 11 10 9 8 7 6 5 4 3 2 1 "
     ]
    }
   ],
   "source": [
    "for num in range(25,0,-1):\n",
    "    print(num , end = ' ')"
   ]
  },
  {
   "cell_type": "code",
   "execution_count": 38,
   "metadata": {},
   "outputs": [
    {
     "name": "stdout",
     "output_type": "stream",
     "text": [
      "Enter Table No : 5\n",
      "5 * 1 = 5\n",
      "5 * 3 = 15\n",
      "5 * 5 = 25\n",
      "5 * 7 = 35\n",
      "5 * 9 = 45\n"
     ]
    }
   ],
   "source": [
    "tableNum = int(input(\"Enter Table No : \"))\n",
    "for table in range(1,11):\n",
    "    if table % 2 == 0:\n",
    "        continue\n",
    "    print(f'{tableNum} * {table} = {tableNum * table}' )"
   ]
  },
  {
   "cell_type": "code",
   "execution_count": 39,
   "metadata": {},
   "outputs": [
    {
     "name": "stdout",
     "output_type": "stream",
     "text": [
      "Enter Table No : 5\n",
      "5 * 1 = 5\n"
     ]
    }
   ],
   "source": [
    "tableNum = int(input(\"Enter Table No : \"))\n",
    "for table in range(1,11):\n",
    "    if table % 2 == 0:\n",
    "        break\n",
    "    print(f'{tableNum} * {table} = {tableNum * table}' )"
   ]
  },
  {
   "cell_type": "code",
   "execution_count": 1,
   "metadata": {},
   "outputs": [
    {
     "ename": "SyntaxError",
     "evalue": "invalid syntax (<ipython-input-1-20fc13dc59eb>, line 4)",
     "output_type": "error",
     "traceback": [
      "\u001b[1;36m  File \u001b[1;32m\"<ipython-input-1-20fc13dc59eb>\"\u001b[1;36m, line \u001b[1;32m4\u001b[0m\n\u001b[1;33m    if friendList.startswith == 'M' || 'm'):\u001b[0m\n\u001b[1;37m                                     ^\u001b[0m\n\u001b[1;31mSyntaxError\u001b[0m\u001b[1;31m:\u001b[0m invalid syntax\n"
     ]
    }
   ],
   "source": [
    "friendList = input('enter name')\n",
    "for friendList in friendList: \n",
    "    friendList = input('Enter your friends name : ')\n",
    "    if friendList.startswith == 'M' || 'm'):\n",
    "        \n",
    "        print('He is your best friend')\n",
    "        \n",
    "    else:\n",
    "        print('He is just friend')\n",
    "    "
   ]
  },
  {
   "cell_type": "code",
   "execution_count": 2,
   "metadata": {},
   "outputs": [
    {
     "name": "stdout",
     "output_type": "stream",
     "text": [
      "Enter your friend name: mus\n",
      "Enter your friend name: as\n",
      "Enter your friend name: asa\n",
      "Enter your friend name: sadasd\n",
      "Enter your friend name: dasdsadsad\n",
      "Enter your friend name: dadsad\n",
      "Enter your friend name: sad\n",
      "Enter your friend name: asdas\n",
      "Enter your friend name: asdad\n",
      "Enter your friend name: sadada\n"
     ]
    },
    {
     "data": {
      "text/plain": [
       "['as', 'asa', 'asdas', 'asdad']"
      ]
     },
     "execution_count": 2,
     "metadata": {},
     "output_type": "execute_result"
    }
   ],
   "source": [
    "Best_Friend = []\n",
    "for num in range(10):\n",
    "    name = input(\"Enter your friend name: \")\n",
    "    if name.startswith('a'):\n",
    "        Best_Friend.append(name)\n",
    "Best_Friend        "
   ]
  },
  {
   "cell_type": "code",
   "execution_count": null,
   "metadata": {},
   "outputs": [],
   "source": []
  },
  {
   "cell_type": "code",
   "execution_count": null,
   "metadata": {},
   "outputs": [],
   "source": []
  },
  {
   "cell_type": "code",
   "execution_count": null,
   "metadata": {},
   "outputs": [],
   "source": []
  }
 ],
 "metadata": {
  "kernelspec": {
   "display_name": "Python 3",
   "language": "python",
   "name": "python3"
  },
  "language_info": {
   "codemirror_mode": {
    "name": "ipython",
    "version": 3
   },
   "file_extension": ".py",
   "mimetype": "text/x-python",
   "name": "python",
   "nbconvert_exporter": "python",
   "pygments_lexer": "ipython3",
   "version": "3.7.3"
  }
 },
 "nbformat": 4,
 "nbformat_minor": 2
}
