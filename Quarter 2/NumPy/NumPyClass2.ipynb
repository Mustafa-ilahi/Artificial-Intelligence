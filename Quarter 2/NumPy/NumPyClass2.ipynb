{
 "cells": [
  {
   "cell_type": "markdown",
   "metadata": {},
   "source": [
    "# Boolean Indexing"
   ]
  },
  {
   "cell_type": "code",
   "execution_count": 1,
   "metadata": {},
   "outputs": [],
   "source": [
    "import numpy as np"
   ]
  },
  {
   "cell_type": "code",
   "execution_count": 2,
   "metadata": {},
   "outputs": [],
   "source": [
    "names = np.array(['Mustafa', 'Jazzy', 'Haziq', 'Rafay', 'Hammad', 'Mehmood', 'Murtuza'])"
   ]
  },
  {
   "cell_type": "code",
   "execution_count": 3,
   "metadata": {},
   "outputs": [],
   "source": [
    "data = np.random.randn(7,4)"
   ]
  },
  {
   "cell_type": "code",
   "execution_count": 4,
   "metadata": {},
   "outputs": [
    {
     "data": {
      "text/plain": [
       "array(['Mustafa', 'Jazzy', 'Haziq', 'Rafay', 'Hammad', 'Mehmood',\n",
       "       'Murtuza'], dtype='<U7')"
      ]
     },
     "execution_count": 4,
     "metadata": {},
     "output_type": "execute_result"
    }
   ],
   "source": [
    "names"
   ]
  },
  {
   "cell_type": "code",
   "execution_count": 5,
   "metadata": {},
   "outputs": [
    {
     "data": {
      "text/plain": [
       "array([[ 2.21524538e-01,  1.13638467e+00,  2.53996378e-03,\n",
       "        -1.12809829e+00],\n",
       "       [-2.98463217e-01, -1.55786058e+00, -1.01100776e-01,\n",
       "        -3.19704707e-01],\n",
       "       [ 7.93778737e-01,  1.10114530e-01,  3.90056828e-01,\n",
       "        -8.51574744e-01],\n",
       "       [ 7.29567720e-01, -8.41983237e-01,  2.08632270e-01,\n",
       "        -1.52765292e+00],\n",
       "       [-2.06897266e-04,  3.28314606e-01,  9.97518725e-01,\n",
       "        -4.90353795e-01],\n",
       "       [-6.01832530e-01, -1.80525038e+00,  1.62779655e+00,\n",
       "        -1.52667226e+00],\n",
       "       [ 1.05762476e+00, -3.82975858e-01,  6.65279633e-01,\n",
       "        -4.98327033e-01]])"
      ]
     },
     "execution_count": 5,
     "metadata": {},
     "output_type": "execute_result"
    }
   ],
   "source": [
    "data"
   ]
  },
  {
   "cell_type": "code",
   "execution_count": 6,
   "metadata": {},
   "outputs": [
    {
     "data": {
      "text/plain": [
       "array([ True, False, False, False, False, False, False])"
      ]
     },
     "execution_count": 6,
     "metadata": {},
     "output_type": "execute_result"
    }
   ],
   "source": [
    "names == 'Mustafa'"
   ]
  },
  {
   "cell_type": "code",
   "execution_count": 7,
   "metadata": {},
   "outputs": [
    {
     "data": {
      "text/plain": [
       "array([[ 0.22152454,  1.13638467,  0.00253996, -1.12809829]])"
      ]
     },
     "execution_count": 7,
     "metadata": {},
     "output_type": "execute_result"
    }
   ],
   "source": [
    "data[names == 'Mustafa']"
   ]
  },
  {
   "cell_type": "code",
   "execution_count": 8,
   "metadata": {},
   "outputs": [
    {
     "data": {
      "text/plain": [
       "array([[-2.98463217e-01, -1.55786058e+00, -1.01100776e-01,\n",
       "        -3.19704707e-01],\n",
       "       [ 7.93778737e-01,  1.10114530e-01,  3.90056828e-01,\n",
       "        -8.51574744e-01],\n",
       "       [ 7.29567720e-01, -8.41983237e-01,  2.08632270e-01,\n",
       "        -1.52765292e+00],\n",
       "       [-2.06897266e-04,  3.28314606e-01,  9.97518725e-01,\n",
       "        -4.90353795e-01],\n",
       "       [-6.01832530e-01, -1.80525038e+00,  1.62779655e+00,\n",
       "        -1.52667226e+00],\n",
       "       [ 1.05762476e+00, -3.82975858e-01,  6.65279633e-01,\n",
       "        -4.98327033e-01]])"
      ]
     },
     "execution_count": 8,
     "metadata": {},
     "output_type": "execute_result"
    }
   ],
   "source": [
    "data[names != 'Mustafa']"
   ]
  },
  {
   "cell_type": "code",
   "execution_count": 9,
   "metadata": {},
   "outputs": [
    {
     "data": {
      "text/plain": [
       "array([[ 0.00253996, -1.12809829]])"
      ]
     },
     "execution_count": 9,
     "metadata": {},
     "output_type": "execute_result"
    }
   ],
   "source": [
    "data[names == 'Mustafa', 2:]"
   ]
  },
  {
   "cell_type": "code",
   "execution_count": 10,
   "metadata": {},
   "outputs": [
    {
     "data": {
      "text/plain": [
       "array([[ 2.21524538e-01,  1.13638467e+00,  2.53996378e-03,\n",
       "        -1.12809829e+00],\n",
       "       [-2.98463217e-01, -1.55786058e+00, -1.01100776e-01,\n",
       "        -3.19704707e-01],\n",
       "       [ 7.93778737e-01,  1.10114530e-01,  3.90056828e-01,\n",
       "        -8.51574744e-01],\n",
       "       [ 7.29567720e-01, -8.41983237e-01,  2.08632270e-01,\n",
       "        -1.52765292e+00],\n",
       "       [-2.06897266e-04,  3.28314606e-01,  9.97518725e-01,\n",
       "        -4.90353795e-01],\n",
       "       [-6.01832530e-01, -1.80525038e+00,  1.62779655e+00,\n",
       "        -1.52667226e+00],\n",
       "       [ 1.05762476e+00, -3.82975858e-01,  6.65279633e-01,\n",
       "        -4.98327033e-01]])"
      ]
     },
     "execution_count": 10,
     "metadata": {},
     "output_type": "execute_result"
    }
   ],
   "source": [
    "data"
   ]
  },
  {
   "cell_type": "code",
   "execution_count": 11,
   "metadata": {},
   "outputs": [
    {
     "data": {
      "text/plain": [
       "array([[1.13638467, 0.00253996]])"
      ]
     },
     "execution_count": 11,
     "metadata": {},
     "output_type": "execute_result"
    }
   ],
   "source": [
    "data[names == 'Mustafa', 1:3]"
   ]
  },
  {
   "cell_type": "code",
   "execution_count": 12,
   "metadata": {},
   "outputs": [
    {
     "data": {
      "text/plain": [
       "array([ 0.72956772, -0.84198324,  0.20863227, -1.52765292])"
      ]
     },
     "execution_count": 12,
     "metadata": {},
     "output_type": "execute_result"
    }
   ],
   "source": [
    "data[3]"
   ]
  },
  {
   "cell_type": "code",
   "execution_count": 13,
   "metadata": {},
   "outputs": [
    {
     "data": {
      "text/plain": [
       "array([[ 7.29567720e-01, -8.41983237e-01,  2.08632270e-01,\n",
       "        -1.52765292e+00],\n",
       "       [-2.06897266e-04,  3.28314606e-01,  9.97518725e-01,\n",
       "        -4.90353795e-01],\n",
       "       [ 2.21524538e-01,  1.13638467e+00,  2.53996378e-03,\n",
       "        -1.12809829e+00],\n",
       "       [-2.98463217e-01, -1.55786058e+00, -1.01100776e-01,\n",
       "        -3.19704707e-01]])"
      ]
     },
     "execution_count": 13,
     "metadata": {},
     "output_type": "execute_result"
    }
   ],
   "source": [
    "data[[3,4,0,1]]"
   ]
  },
  {
   "cell_type": "code",
   "execution_count": 14,
   "metadata": {},
   "outputs": [
    {
     "data": {
      "text/plain": [
       "array([[-2.98463217e-01, -1.55786058e+00, -1.01100776e-01,\n",
       "        -3.19704707e-01],\n",
       "       [ 7.93778737e-01,  1.10114530e-01,  3.90056828e-01,\n",
       "        -8.51574744e-01],\n",
       "       [ 7.29567720e-01, -8.41983237e-01,  2.08632270e-01,\n",
       "        -1.52765292e+00],\n",
       "       [-2.06897266e-04,  3.28314606e-01,  9.97518725e-01,\n",
       "        -4.90353795e-01],\n",
       "       [-6.01832530e-01, -1.80525038e+00,  1.62779655e+00,\n",
       "        -1.52667226e+00],\n",
       "       [ 1.05762476e+00, -3.82975858e-01,  6.65279633e-01,\n",
       "        -4.98327033e-01]])"
      ]
     },
     "execution_count": 14,
     "metadata": {},
     "output_type": "execute_result"
    }
   ],
   "source": [
    "data[~(names == 'Mustafa')]"
   ]
  },
  {
   "cell_type": "code",
   "execution_count": 15,
   "metadata": {},
   "outputs": [],
   "source": [
    "cond = names == 'Mustafa'"
   ]
  },
  {
   "cell_type": "code",
   "execution_count": 16,
   "metadata": {},
   "outputs": [
    {
     "data": {
      "text/plain": [
       "array([[-2.98463217e-01, -1.55786058e+00, -1.01100776e-01,\n",
       "        -3.19704707e-01],\n",
       "       [ 7.93778737e-01,  1.10114530e-01,  3.90056828e-01,\n",
       "        -8.51574744e-01],\n",
       "       [ 7.29567720e-01, -8.41983237e-01,  2.08632270e-01,\n",
       "        -1.52765292e+00],\n",
       "       [-2.06897266e-04,  3.28314606e-01,  9.97518725e-01,\n",
       "        -4.90353795e-01],\n",
       "       [-6.01832530e-01, -1.80525038e+00,  1.62779655e+00,\n",
       "        -1.52667226e+00],\n",
       "       [ 1.05762476e+00, -3.82975858e-01,  6.65279633e-01,\n",
       "        -4.98327033e-01]])"
      ]
     },
     "execution_count": 16,
     "metadata": {},
     "output_type": "execute_result"
    }
   ],
   "source": [
    "data[~cond]"
   ]
  },
  {
   "cell_type": "code",
   "execution_count": 17,
   "metadata": {},
   "outputs": [],
   "source": [
    "mask = (names == 'Mustafa') | (names == 'Haziq')"
   ]
  },
  {
   "cell_type": "code",
   "execution_count": 18,
   "metadata": {},
   "outputs": [
    {
     "data": {
      "text/plain": [
       "array([ True, False,  True, False, False, False, False])"
      ]
     },
     "execution_count": 18,
     "metadata": {},
     "output_type": "execute_result"
    }
   ],
   "source": [
    "mask"
   ]
  },
  {
   "cell_type": "code",
   "execution_count": 19,
   "metadata": {},
   "outputs": [
    {
     "data": {
      "text/plain": [
       "array(['Mustafa', 'Jazzy', 'Haziq', 'Rafay', 'Hammad', 'Mehmood',\n",
       "       'Murtuza'], dtype='<U7')"
      ]
     },
     "execution_count": 19,
     "metadata": {},
     "output_type": "execute_result"
    }
   ],
   "source": [
    "names"
   ]
  },
  {
   "cell_type": "code",
   "execution_count": 20,
   "metadata": {},
   "outputs": [
    {
     "data": {
      "text/plain": [
       "array([[ 0.22152454,  1.13638467,  0.00253996, -1.12809829],\n",
       "       [ 0.79377874,  0.11011453,  0.39005683, -0.85157474]])"
      ]
     },
     "execution_count": 20,
     "metadata": {},
     "output_type": "execute_result"
    }
   ],
   "source": [
    "data[mask]"
   ]
  },
  {
   "cell_type": "code",
   "execution_count": 21,
   "metadata": {},
   "outputs": [
    {
     "data": {
      "text/plain": [
       "array([[False, False, False,  True],\n",
       "       [ True,  True,  True,  True],\n",
       "       [False, False, False,  True],\n",
       "       [False,  True, False,  True],\n",
       "       [ True, False, False,  True],\n",
       "       [ True,  True, False,  True],\n",
       "       [False,  True, False,  True]])"
      ]
     },
     "execution_count": 21,
     "metadata": {},
     "output_type": "execute_result"
    }
   ],
   "source": [
    "data < 0"
   ]
  },
  {
   "cell_type": "code",
   "execution_count": 22,
   "metadata": {},
   "outputs": [
    {
     "data": {
      "text/plain": [
       "array([-1.12809829e+00, -2.98463217e-01, -1.55786058e+00, -1.01100776e-01,\n",
       "       -3.19704707e-01, -8.51574744e-01, -8.41983237e-01, -1.52765292e+00,\n",
       "       -2.06897266e-04, -4.90353795e-01, -6.01832530e-01, -1.80525038e+00,\n",
       "       -1.52667226e+00, -3.82975858e-01, -4.98327033e-01])"
      ]
     },
     "execution_count": 22,
     "metadata": {},
     "output_type": "execute_result"
    }
   ],
   "source": [
    "data[data < 0]"
   ]
  },
  {
   "cell_type": "code",
   "execution_count": 23,
   "metadata": {},
   "outputs": [],
   "source": [
    "data[data < 0] = 0"
   ]
  },
  {
   "cell_type": "code",
   "execution_count": 24,
   "metadata": {},
   "outputs": [
    {
     "data": {
      "text/plain": [
       "array([[0.22152454, 1.13638467, 0.00253996, 0.        ],\n",
       "       [0.        , 0.        , 0.        , 0.        ],\n",
       "       [0.79377874, 0.11011453, 0.39005683, 0.        ],\n",
       "       [0.72956772, 0.        , 0.20863227, 0.        ],\n",
       "       [0.        , 0.32831461, 0.99751872, 0.        ],\n",
       "       [0.        , 0.        , 1.62779655, 0.        ],\n",
       "       [1.05762476, 0.        , 0.66527963, 0.        ]])"
      ]
     },
     "execution_count": 24,
     "metadata": {},
     "output_type": "execute_result"
    }
   ],
   "source": [
    "data"
   ]
  },
  {
   "cell_type": "markdown",
   "metadata": {},
   "source": [
    "# Fancy Indexing"
   ]
  },
  {
   "cell_type": "code",
   "execution_count": 36,
   "metadata": {},
   "outputs": [],
   "source": [
    "arr = np.empty((8, 4))            \n",
    "for i in range(8):\n",
    "               arr[i] = i\n",
    "        "
   ]
  },
  {
   "cell_type": "code",
   "execution_count": 37,
   "metadata": {},
   "outputs": [
    {
     "data": {
      "text/plain": [
       "array([[0., 0., 0., 0.],\n",
       "       [1., 1., 1., 1.],\n",
       "       [2., 2., 2., 2.],\n",
       "       [3., 3., 3., 3.],\n",
       "       [4., 4., 4., 4.],\n",
       "       [5., 5., 5., 5.],\n",
       "       [6., 6., 6., 6.],\n",
       "       [7., 7., 7., 7.]])"
      ]
     },
     "execution_count": 37,
     "metadata": {},
     "output_type": "execute_result"
    }
   ],
   "source": [
    "arr"
   ]
  },
  {
   "cell_type": "code",
   "execution_count": 38,
   "metadata": {},
   "outputs": [
    {
     "data": {
      "text/plain": [
       "array([4., 4., 4., 4.])"
      ]
     },
     "execution_count": 38,
     "metadata": {},
     "output_type": "execute_result"
    }
   ],
   "source": [
    "arr[4]"
   ]
  },
  {
   "cell_type": "code",
   "execution_count": 41,
   "metadata": {},
   "outputs": [
    {
     "data": {
      "text/plain": [
       "array([[4., 4., 4., 4.],\n",
       "       [6., 6., 6., 6.]])"
      ]
     },
     "execution_count": 41,
     "metadata": {},
     "output_type": "execute_result"
    }
   ],
   "source": [
    "arr[[4,6]]"
   ]
  },
  {
   "cell_type": "code",
   "execution_count": 42,
   "metadata": {},
   "outputs": [
    {
     "data": {
      "text/plain": [
       "array([[4., 4.],\n",
       "       [6., 6.]])"
      ]
     },
     "execution_count": 42,
     "metadata": {},
     "output_type": "execute_result"
    }
   ],
   "source": [
    "arr[[4,6],2:]"
   ]
  },
  {
   "cell_type": "code",
   "execution_count": 43,
   "metadata": {},
   "outputs": [],
   "source": [
    "arr = np.arange(32).reshape((8,4))"
   ]
  },
  {
   "cell_type": "code",
   "execution_count": 44,
   "metadata": {},
   "outputs": [
    {
     "data": {
      "text/plain": [
       "array([[ 0,  1,  2,  3],\n",
       "       [ 4,  5,  6,  7],\n",
       "       [ 8,  9, 10, 11],\n",
       "       [12, 13, 14, 15],\n",
       "       [16, 17, 18, 19],\n",
       "       [20, 21, 22, 23],\n",
       "       [24, 25, 26, 27],\n",
       "       [28, 29, 30, 31]])"
      ]
     },
     "execution_count": 44,
     "metadata": {},
     "output_type": "execute_result"
    }
   ],
   "source": [
    "arr"
   ]
  },
  {
   "cell_type": "code",
   "execution_count": 45,
   "metadata": {},
   "outputs": [
    {
     "data": {
      "text/plain": [
       "array([ 4, 23, 29, 10])"
      ]
     },
     "execution_count": 45,
     "metadata": {},
     "output_type": "execute_result"
    }
   ],
   "source": [
    "arr[[1,5,7,2],[0,3,1,2]]"
   ]
  },
  {
   "cell_type": "code",
   "execution_count": 47,
   "metadata": {},
   "outputs": [
    {
     "data": {
      "text/plain": [
       "array([[ 4,  7,  5,  6],\n",
       "       [20, 23, 21, 22],\n",
       "       [28, 31, 29, 30],\n",
       "       [ 8, 11,  9, 10]])"
      ]
     },
     "execution_count": 47,
     "metadata": {},
     "output_type": "execute_result"
    }
   ],
   "source": [
    "#1*0 , 1*3, 1*1, 1*2 \n",
    "#5*0 , 5*3, 5*1, 5*2\n",
    "#7*0 , 7*3, 7*1, 7*2\n",
    "#2*0 , 2*3, 2*1, 2*2\n",
    "arr[[1, 5, 7, 2]][:, [0, 3, 1, 2]]"
   ]
  },
  {
   "cell_type": "markdown",
   "metadata": {},
   "source": [
    "# Transposing Arrays and Swapping Axes"
   ]
  },
  {
   "cell_type": "code",
   "execution_count": 48,
   "metadata": {},
   "outputs": [],
   "source": [
    "arr = np.arange(15).reshape((3,5))"
   ]
  },
  {
   "cell_type": "code",
   "execution_count": 49,
   "metadata": {},
   "outputs": [
    {
     "data": {
      "text/plain": [
       "array([[ 0,  1,  2,  3,  4],\n",
       "       [ 5,  6,  7,  8,  9],\n",
       "       [10, 11, 12, 13, 14]])"
      ]
     },
     "execution_count": 49,
     "metadata": {},
     "output_type": "execute_result"
    }
   ],
   "source": [
    "arr"
   ]
  },
  {
   "cell_type": "code",
   "execution_count": 50,
   "metadata": {},
   "outputs": [
    {
     "data": {
      "text/plain": [
       "array([[ 0,  5, 10],\n",
       "       [ 1,  6, 11],\n",
       "       [ 2,  7, 12],\n",
       "       [ 3,  8, 13],\n",
       "       [ 4,  9, 14]])"
      ]
     },
     "execution_count": 50,
     "metadata": {},
     "output_type": "execute_result"
    }
   ],
   "source": [
    "arr.T"
   ]
  },
  {
   "cell_type": "code",
   "execution_count": null,
   "metadata": {},
   "outputs": [],
   "source": []
  }
 ],
 "metadata": {
  "kernelspec": {
   "display_name": "Python 3",
   "language": "python",
   "name": "python3"
  },
  "language_info": {
   "codemirror_mode": {
    "name": "ipython",
    "version": 3
   },
   "file_extension": ".py",
   "mimetype": "text/x-python",
   "name": "python",
   "nbconvert_exporter": "python",
   "pygments_lexer": "ipython3",
   "version": "3.7.3"
  }
 },
 "nbformat": 4,
 "nbformat_minor": 2
}
